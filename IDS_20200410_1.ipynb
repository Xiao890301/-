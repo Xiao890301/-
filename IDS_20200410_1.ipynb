{
  "nbformat": 4,
  "nbformat_minor": 0,
  "metadata": {
    "colab": {
      "name": "IDS_20200410_1.ipynb",
      "provenance": [],
      "collapsed_sections": [],
      "authorship_tag": "ABX9TyMuHolUih5Z23+RNJk3rMQH",
      "include_colab_link": true
    },
    "kernelspec": {
      "name": "python3",
      "display_name": "Python 3"
    }
  },
  "cells": [
    {
      "cell_type": "markdown",
      "metadata": {
        "id": "view-in-github",
        "colab_type": "text"
      },
      "source": [
        "<a href=\"https://colab.research.google.com/github/Xiao890301/Data-Science-Introduction/blob/master/IDS_20200410_1.ipynb\" target=\"_parent\"><img src=\"https://colab.research.google.com/assets/colab-badge.svg\" alt=\"Open In Colab\"/></a>"
      ]
    },
    {
      "cell_type": "code",
      "metadata": {
        "id": "wNObNyUy3rXF",
        "colab_type": "code",
        "outputId": "b6229ec1-ceb5-4af9-8b45-f6b8f93a9a6e",
        "colab": {
          "base_uri": "https://localhost:8080/",
          "height": 50
        }
      },
      "source": [
        "print(tempc)\n",
        "print(type(tempc))"
      ],
      "execution_count": 5,
      "outputs": [
        {
          "output_type": "stream",
          "text": [
            "26\n",
            "<class 'str'>\n"
          ],
          "name": "stdout"
        }
      ]
    },
    {
      "cell_type": "code",
      "metadata": {
        "id": "yoIATbqD_-kB",
        "colab_type": "code",
        "colab": {
          "base_uri": "https://localhost:8080/",
          "height": 34
        },
        "outputId": "b0b8b587-2a9c-46aa-c633-dba8a15d9ee3"
      },
      "source": [
        "tempc + \"32\""
      ],
      "execution_count": 7,
      "outputs": [
        {
          "output_type": "execute_result",
          "data": {
            "text/plain": [
              "'2632'"
            ]
          },
          "metadata": {
            "tags": []
          },
          "execution_count": 7
        }
      ]
    },
    {
      "cell_type": "code",
      "metadata": {
        "id": "ZkI6hJX9AmIv",
        "colab_type": "code",
        "outputId": "76cb8f63-5a83-4726-ef59-6cb3bcc52f9d",
        "colab": {
          "base_uri": "https://localhost:8080/",
          "height": 34
        }
      },
      "source": [
        "tempc * 5"
      ],
      "execution_count": 8,
      "outputs": [
        {
          "output_type": "execute_result",
          "data": {
            "text/plain": [
              "'2626262626'"
            ]
          },
          "metadata": {
            "tags": []
          },
          "execution_count": 8
        }
      ]
    },
    {
      "cell_type": "code",
      "metadata": {
        "id": "ALP6mkZeAsXg",
        "colab_type": "code",
        "outputId": "c26b3d36-9ae3-4655-aa4b-9900f2eec801",
        "colab": {
          "base_uri": "https://localhost:8080/",
          "height": 51
        }
      },
      "source": [
        "print(int(tempc))\n",
        "print(float(tempc))"
      ],
      "execution_count": 0,
      "outputs": [
        {
          "output_type": "stream",
          "text": [
            "26\n",
            "26.0\n"
          ],
          "name": "stdout"
        }
      ]
    },
    {
      "cell_type": "code",
      "metadata": {
        "id": "Hb55gYECA1xY",
        "colab_type": "code",
        "outputId": "6ca620b0-637e-413a-f921-34c46eb3250e",
        "colab": {
          "base_uri": "https://localhost:8080/",
          "height": 51
        }
      },
      "source": [
        "print(type(int(tempc)))\n",
        "print(type(float(tempc)))"
      ],
      "execution_count": 0,
      "outputs": [
        {
          "output_type": "stream",
          "text": [
            "<class 'int'>\n",
            "<class 'float'>\n"
          ],
          "name": "stdout"
        }
      ]
    },
    {
      "cell_type": "code",
      "metadata": {
        "id": "MNuRdgC2BBug",
        "colab_type": "code",
        "outputId": "4c5a117f-b248-488a-e160-e2856e3a30bf",
        "colab": {
          "base_uri": "https://localhost:8080/",
          "height": 85
        }
      },
      "source": [
        "city = input(\"請輸入您所在的城市:\")\n",
        "weather = input(\"請輸入現在的天氣:\")\n",
        "tempc = input(\"請輸入現在的攝氏氣溫\")\n",
        "tempc = int(tempc)\n",
        "tempf = tempc*9/5 +32\n",
        "\n",
        "print(\"我在{}，天氣{}，攝氏{}度\".format(city, weather, tempc))"
      ],
      "execution_count": 0,
      "outputs": [
        {
          "output_type": "stream",
          "text": [
            "請輸入您所在的城市:Taipei\n",
            "請輸入現在的天氣:晴\n",
            "請輸入現在的攝氏氣溫26\n",
            "我在Taipei，天氣晴，攝氏26度\n"
          ],
          "name": "stdout"
        }
      ]
    },
    {
      "cell_type": "code",
      "metadata": {
        "id": "wQeFk9D3CKpy",
        "colab_type": "code",
        "outputId": "24925afe-ac96-47bf-93f6-9bd1de1052d2",
        "colab": {
          "base_uri": "https://localhost:8080/",
          "height": 34
        }
      },
      "source": [
        "id_last_digit = input(\"請輸入您身分證字號的尾數\")"
      ],
      "execution_count": 1,
      "outputs": [
        {
          "output_type": "stream",
          "text": [
            "請輸入您身分證字號的尾數2\n"
          ],
          "name": "stdout"
        }
      ]
    },
    {
      "cell_type": "code",
      "metadata": {
        "id": "b163PCdIDT9x",
        "colab_type": "code",
        "colab": {}
      },
      "source": [
        "ans = int(id_last_digit) % 2 == 1"
      ],
      "execution_count": 0,
      "outputs": []
    },
    {
      "cell_type": "code",
      "metadata": {
        "id": "hZqITTqJDE6p",
        "colab_type": "code",
        "outputId": "6293ee9d-fcb3-4cba-e454-6c20c252d532",
        "colab": {
          "base_uri": "https://localhost:8080/",
          "height": 34
        }
      },
      "source": [
        "print(ans)"
      ],
      "execution_count": 3,
      "outputs": [
        {
          "output_type": "stream",
          "text": [
            "False\n"
          ],
          "name": "stdout"
        }
      ]
    },
    {
      "cell_type": "code",
      "metadata": {
        "id": "Xx5-XENhzyym",
        "colab_type": "code",
        "colab": {
          "base_uri": "https://localhost:8080/",
          "height": 84
        },
        "outputId": "864fe02b-b74e-4bdf-ac4d-5c18319cdeac"
      },
      "source": [
        "id_last_digit = input(\"請輸入您身分證字號的尾數\")\n",
        "id_last_digit = int(id_last_digit)\n",
        "print(id_last_digit)\n",
        "print(type(id_last_digit))\n",
        "modulo = id_last_digit % 2\n",
        "ans = modulo == 1\n",
        "print(ans)"
      ],
      "execution_count": 9,
      "outputs": [
        {
          "output_type": "stream",
          "text": [
            "請輸入您身分證字號的尾數2\n",
            "2\n",
            "<class 'int'>\n",
            "False\n"
          ],
          "name": "stdout"
        }
      ]
    }
  ]
}