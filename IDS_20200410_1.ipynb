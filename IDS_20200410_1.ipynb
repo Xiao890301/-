{
  "nbformat": 4,
  "nbformat_minor": 0,
  "metadata": {
    "colab": {
      "name": "IDS_20200410_1.ipynb",
      "provenance": [],
      "collapsed_sections": [],
      "authorship_tag": "ABX9TyOMoeQUlYZlOf1KaEzryuWO",
      "include_colab_link": true
    },
    "kernelspec": {
      "name": "python3",
      "display_name": "Python 3"
    }
  },
  "cells": [
    {
      "cell_type": "markdown",
      "metadata": {
        "id": "view-in-github",
        "colab_type": "text"
      },
      "source": [
        "<a href=\"https://colab.research.google.com/github/Xiao890301/Data-Science-Introduction/blob/master/IDS_20200410_1.ipynb\" target=\"_parent\"><img src=\"https://colab.research.google.com/assets/colab-badge.svg\" alt=\"Open In Colab\"/></a>"
      ]
    },
    {
      "cell_type": "code",
      "metadata": {
        "id": "MNuRdgC2BBug",
        "colab_type": "code",
        "outputId": "b454f8bd-b3c1-4503-9b1a-4257af49d59e",
        "colab": {
          "base_uri": "https://localhost:8080/",
          "height": 84
        }
      },
      "source": [
        "city = input(\"請輸入您所在的城市:\")\n",
        "weather = input(\"請輸入現在的天氣:\")\n",
        "tempc = input(\"請輸入現在的攝氏氣溫\")\n",
        "tempc = int(tempc)\n",
        "tempf = tempc*9/5 +32\n",
        "\n",
        "print(\"我在{}，天氣{}，攝氏{}度，華氏{}度\".format(city, weather, tempc, tempf))"
      ],
      "execution_count": 24,
      "outputs": [
        {
          "output_type": "stream",
          "text": [
            "請輸入您所在的城市:台北\n",
            "請輸入現在的天氣:晴\n",
            "請輸入現在的攝氏氣溫26\n",
            "我在台北，天氣晴，攝氏26度，華氏78.8度\n"
          ],
          "name": "stdout"
        }
      ]
    },
    {
      "cell_type": "code",
      "metadata": {
        "id": "wQeFk9D3CKpy",
        "colab_type": "code",
        "outputId": "2660d0c1-e311-4bcc-bc5c-fb5755f39098",
        "colab": {
          "base_uri": "https://localhost:8080/",
          "height": 34
        }
      },
      "source": [
        "id_last_digit = input(\"請輸入您身分證字號的尾數\")"
      ],
      "execution_count": 25,
      "outputs": [
        {
          "output_type": "stream",
          "text": [
            "請輸入您身分證字號的尾數2\n"
          ],
          "name": "stdout"
        }
      ]
    },
    {
      "cell_type": "code",
      "metadata": {
        "id": "b163PCdIDT9x",
        "colab_type": "code",
        "colab": {}
      },
      "source": [
        "ans = int(id_last_digit) % 2 == 1"
      ],
      "execution_count": 0,
      "outputs": []
    },
    {
      "cell_type": "code",
      "metadata": {
        "id": "hZqITTqJDE6p",
        "colab_type": "code",
        "outputId": "e96b1ac1-f152-45d6-e58f-07421df1f7d9",
        "colab": {
          "base_uri": "https://localhost:8080/",
          "height": 34
        }
      },
      "source": [
        "print(ans)"
      ],
      "execution_count": 27,
      "outputs": [
        {
          "output_type": "stream",
          "text": [
            "False\n"
          ],
          "name": "stdout"
        }
      ]
    },
    {
      "cell_type": "code",
      "metadata": {
        "id": "Xx5-XENhzyym",
        "colab_type": "code",
        "outputId": "d795c6be-b225-4141-d775-4b3c64b55897",
        "colab": {
          "base_uri": "https://localhost:8080/",
          "height": 84
        }
      },
      "source": [
        "id_last_digit = input(\"請輸入您身分證字號的尾數\")\n",
        "id_last_digit = int(id_last_digit)\n",
        "print(id_last_digit)\n",
        "print(type(id_last_digit))\n",
        "modulo = id_last_digit % 2\n",
        "ans = modulo == 1\n",
        "print(ans)"
      ],
      "execution_count": 28,
      "outputs": [
        {
          "output_type": "stream",
          "text": [
            "請輸入您身分證字號的尾數2\n",
            "2\n",
            "<class 'int'>\n",
            "False\n"
          ],
          "name": "stdout"
        }
      ]
    }
  ]
}