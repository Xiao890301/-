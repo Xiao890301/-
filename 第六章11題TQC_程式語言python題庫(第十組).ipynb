{
  "nbformat": 4,
  "nbformat_minor": 0,
  "metadata": {
    "colab": {
      "name": "第六章11題TQC_程式語言python題庫(第十組).ipynb",
      "provenance": [],
      "collapsed_sections": [],
      "authorship_tag": "ABX9TyPY9xzl/gCVOqXGeZxzK3Nj",
      "include_colab_link": true
    },
    "kernelspec": {
      "name": "python3",
      "display_name": "Python 3"
    }
  },
  "cells": [
    {
      "cell_type": "markdown",
      "metadata": {
        "id": "view-in-github",
        "colab_type": "text"
      },
      "source": [
        "<a href=\"https://colab.research.google.com/github/Xiao890301/Data-Science-Introduction/blob/master/%E7%AC%AC%E5%85%AD%E7%AB%A011%E9%A1%8CTQC_%E7%A8%8B%E5%BC%8F%E8%AA%9E%E8%A8%80python%E9%A1%8C%E5%BA%AB(%E7%AC%AC%E5%8D%81%E7%B5%84).ipynb\" target=\"_parent\"><img src=\"https://colab.research.google.com/assets/colab-badge.svg\" alt=\"Open In Colab\"/></a>"
      ]
    },
    {
      "cell_type": "markdown",
      "metadata": {
        "id": "TXSHl0RUXPbY",
        "colab_type": "text"
      },
      "source": [
        "綜合範例11 請撰寫一程式，將宣告好的整數串列(大小為5)傳遞給名為output(aList)的函式，此函示將以使用者的輸入初始化後，再將之回傳到主程式並輸出該串列。接著，主程式將該串列傳遞給名為max(aList)和min(aList)函式，並分別回傳後輸出aList的最大值(Max)和最小值(Min)。請不要使用系統提供的函式。\n",
        "\n"
      ]
    },
    {
      "cell_type": "code",
      "metadata": {
        "id": "TZtso9jMW27l",
        "colab_type": "code",
        "colab": {}
      },
      "source": [
        "輸入輸出:\n",
        "(1)範例輸入:\n",
        "   4\n",
        "   5\n",
        "   2\n",
        "   -3\n",
        "   9\n",
        "(2)範例輸出:\n",
        "   [4, 5, 2, -3, 9]\n",
        "   Max = 9\n",
        "   Min = -3"
      ],
      "execution_count": 0,
      "outputs": []
    },
    {
      "cell_type": "code",
      "metadata": {
        "id": "UC_xGsrzeLQz",
        "colab_type": "code",
        "outputId": "dc01db16-ac93-4627-ebc4-baaf3c2df2be",
        "colab": {
          "base_uri": "https://localhost:8080/",
          "height": 318
        }
      },
      "source": [
        "def output(aList):\n",
        "    for i in range(len(aList)):\n",
        "        aList[i] = eval(input())\n",
        "    return aList\n",
        "\n",
        "def max(aList):\n",
        "    max_num = aList[0]\n",
        "    for i in range(len(aList)):\n",
        "        if aList[i] >max_num:\n",
        "            max_num = aList[i]\n",
        "    return max_num\n",
        "\n",
        "def min(aList):\n",
        "    min_num = aList[0]\n",
        "    for i in range(len(aList)):\n",
        "        if aList[i] <min_num:\n",
        "            min_num = aList[i]\n",
        "    return min_num\n",
        "\n",
        "def main():\n",
        "    lst = [0] * 5\n",
        "    print(compute(lst))\n",
        "    print(\"Max =\", max(lst))\n",
        "    print(\"Min =\", min(lst))\n",
        "\n",
        "main()"
      ],
      "execution_count": 0,
      "outputs": [
        {
          "output_type": "error",
          "ename": "TypeError",
          "evalue": "ignored",
          "traceback": [
            "\u001b[0;31m---------------------------------------------------------------------------\u001b[0m",
            "\u001b[0;31mTypeError\u001b[0m                                 Traceback (most recent call last)",
            "\u001b[0;32m<ipython-input-43-875a031c71e3>\u001b[0m in \u001b[0;36m<module>\u001b[0;34m()\u001b[0m\n\u001b[1;32m     24\u001b[0m     \u001b[0mprint\u001b[0m\u001b[0;34m(\u001b[0m\u001b[0;34m\"Min =\"\u001b[0m\u001b[0;34m,\u001b[0m \u001b[0mmin\u001b[0m\u001b[0;34m(\u001b[0m\u001b[0mlst\u001b[0m\u001b[0;34m)\u001b[0m\u001b[0;34m)\u001b[0m\u001b[0;34m\u001b[0m\u001b[0;34m\u001b[0m\u001b[0m\n\u001b[1;32m     25\u001b[0m \u001b[0;34m\u001b[0m\u001b[0m\n\u001b[0;32m---> 26\u001b[0;31m \u001b[0mmain\u001b[0m\u001b[0;34m(\u001b[0m\u001b[0;34m)\u001b[0m\u001b[0;34m\u001b[0m\u001b[0;34m\u001b[0m\u001b[0m\n\u001b[0m",
            "\u001b[0;32m<ipython-input-43-875a031c71e3>\u001b[0m in \u001b[0;36mmain\u001b[0;34m()\u001b[0m\n\u001b[1;32m     20\u001b[0m \u001b[0;32mdef\u001b[0m \u001b[0mmain\u001b[0m\u001b[0;34m(\u001b[0m\u001b[0;34m)\u001b[0m\u001b[0;34m:\u001b[0m\u001b[0;34m\u001b[0m\u001b[0;34m\u001b[0m\u001b[0m\n\u001b[1;32m     21\u001b[0m     \u001b[0mlst\u001b[0m \u001b[0;34m=\u001b[0m \u001b[0;34m[\u001b[0m\u001b[0;36m0\u001b[0m\u001b[0;34m]\u001b[0m \u001b[0;34m*\u001b[0m \u001b[0;36m5\u001b[0m\u001b[0;34m\u001b[0m\u001b[0;34m\u001b[0m\u001b[0m\n\u001b[0;32m---> 22\u001b[0;31m     \u001b[0mprint\u001b[0m\u001b[0;34m(\u001b[0m\u001b[0mcompute\u001b[0m\u001b[0;34m(\u001b[0m\u001b[0mlst\u001b[0m\u001b[0;34m)\u001b[0m\u001b[0;34m)\u001b[0m\u001b[0;34m\u001b[0m\u001b[0;34m\u001b[0m\u001b[0m\n\u001b[0m\u001b[1;32m     23\u001b[0m     \u001b[0mprint\u001b[0m\u001b[0;34m(\u001b[0m\u001b[0;34m\"Max =\"\u001b[0m\u001b[0;34m,\u001b[0m \u001b[0mmax\u001b[0m\u001b[0;34m(\u001b[0m\u001b[0mlst\u001b[0m\u001b[0;34m)\u001b[0m\u001b[0;34m)\u001b[0m\u001b[0;34m\u001b[0m\u001b[0;34m\u001b[0m\u001b[0m\n\u001b[1;32m     24\u001b[0m     \u001b[0mprint\u001b[0m\u001b[0;34m(\u001b[0m\u001b[0;34m\"Min =\"\u001b[0m\u001b[0;34m,\u001b[0m \u001b[0mmin\u001b[0m\u001b[0;34m(\u001b[0m\u001b[0mlst\u001b[0m\u001b[0;34m)\u001b[0m\u001b[0;34m)\u001b[0m\u001b[0;34m\u001b[0m\u001b[0;34m\u001b[0m\u001b[0m\n",
            "\u001b[0;31mTypeError\u001b[0m: compute() missing 1 required positional argument: 'b'"
          ]
        }
      ]
    },
    {
      "cell_type": "markdown",
      "metadata": {
        "id": "oiFBWYtKn1sS",
        "colab_type": "text"
      },
      "source": [
        "綜合範例12 請撰寫一程式，讓使用者輸入十個數字(不重複)至串列，並將該串列傳遞給名為compute()的函式，此函式接收一個串列lst和一個數字a(預設3)，並回傳lst中a個最大的數字。最後再將回傳結果輸出"
      ]
    },
    {
      "cell_type": "code",
      "metadata": {
        "id": "lr94Zwuloyf8",
        "colab_type": "code",
        "colab": {}
      },
      "source": [
        "輸入輸出:\n",
        "(1)範例輸入:\n",
        "   45\n",
        "   89\n",
        "   -3\n",
        "   17\n",
        "   92\n",
        "   24\n",
        "   38\n",
        "   -23\n",
        "   55\n",
        "   10\n",
        "(2)範例輸出:\n",
        "   [45, 89, -3, 17, 92, 24, 38, -23, 55, 10]\n",
        "   [92, 89, 55]"
      ],
      "execution_count": 0,
      "outputs": []
    },
    {
      "cell_type": "code",
      "metadata": {
        "id": "AhDaJQuCpkSD",
        "colab_type": "code",
        "outputId": "9c76bb53-dab5-41d8-8cd2-fd9cf06acb30",
        "colab": {
          "base_uri": "https://localhost:8080/",
          "height": 218
        }
      },
      "source": [
        "def compute(lst, a=3):\n",
        "    lst.sort()\n",
        "    ans = []\n",
        "    for i in range(-1, -1*a-1, -1):\n",
        "        ans.append(lst[i])\n",
        "    return ans\n",
        "\n",
        "def main():\n",
        "   lst = []\n",
        "   for i in range(10):\n",
        "       num = eval(input())\n",
        "       lst.append(num)\n",
        "   print(lst)\n",
        "   print(compute(lst))\n",
        "\n",
        "main()"
      ],
      "execution_count": 0,
      "outputs": [
        {
          "output_type": "stream",
          "text": [
            "45\n",
            "89\n",
            "-3\n",
            "17\n",
            "92\n",
            "24\n",
            "38\n",
            "-23\n",
            "55\n",
            "10\n",
            "[45, 89, -3, 17, 92, 24, 38, -23, 55, 10]\n",
            "[92, 89, 55]\n"
          ],
          "name": "stdout"
        }
      ]
    },
    {
      "cell_type": "markdown",
      "metadata": {
        "id": "S7LQZrXexMQS",
        "colab_type": "text"
      },
      "source": [
        "綜合範例13 是撰寫一程式，以lotto()產生大熱透號碼，並以main()函式呼叫五次lotto()函式，亦即產生五組大樂透號碼。請江的熱透號碼由大至小排序之\n"
      ]
    },
    {
      "cell_type": "code",
      "metadata": {
        "id": "IKXME0gbx8J4",
        "colab_type": "code",
        "colab": {}
      },
      "source": [
        "輸入輸出:\n",
        "(1)範例輸入:\n",
        "   無\n",
        "(2)範例輸出:\n",
        "   隨機跑出亂碼，課本僅供參考!!"
      ],
      "execution_count": 0,
      "outputs": []
    },
    {
      "cell_type": "code",
      "metadata": {
        "id": "n9YmtRLVy5fQ",
        "colab_type": "code",
        "outputId": "6168bfca-39bd-40d2-a214-f249dac3eabb",
        "colab": {
          "base_uri": "https://localhost:8080/",
          "height": 101
        }
      },
      "source": [
        "import random\n",
        "def lotto():\n",
        "    lottoLst = []\n",
        "    count = 0\n",
        "    while count < 6:\n",
        "        lottoNum = random.randint(1, 49)\n",
        "        if lottoNum not in lottoLst:\n",
        "            lottoLst.append(lottoNum)\n",
        "            count += 1\n",
        "    lottoLst.sort()\n",
        "    print(lottoLst)\n",
        "\n",
        "def main():\n",
        "    for i in range(1, 6):\n",
        "        lotto()\n",
        "\n",
        "main()"
      ],
      "execution_count": 0,
      "outputs": [
        {
          "output_type": "stream",
          "text": [
            "[15, 29, 39, 44, 46, 48]\n",
            "[3, 4, 7, 20, 31, 37]\n",
            "[4, 7, 16, 22, 31, 35]\n",
            "[3, 18, 20, 25, 35, 45]\n",
            "[13, 15, 27, 43, 45, 46]\n"
          ],
          "name": "stdout"
        }
      ]
    },
    {
      "cell_type": "markdown",
      "metadata": {
        "id": "TPXxUT71rdXY",
        "colab_type": "text"
      },
      "source": [
        "綜合範例14 試撰寫一程式，以隨機亂數的方式產生100個介於1~1000的亂數，將它置放於randLst串列中，然後印出第二小的數和第二大的數"
      ]
    },
    {
      "cell_type": "code",
      "metadata": {
        "id": "pUmRRNevsGul",
        "colab_type": "code",
        "colab": {}
      },
      "source": [
        "輸入輸出:\n",
        "(1)範例輸入:\n",
        "   無\n",
        "(2)範例輸出:\n",
        "       隨機跑出亂數，課本僅供參考!!"
      ],
      "execution_count": 0,
      "outputs": []
    },
    {
      "cell_type": "code",
      "metadata": {
        "id": "mq1eia4YtR-M",
        "colab_type": "code",
        "outputId": "87b9147b-052c-4afc-824a-a891cda6e635",
        "colab": {
          "base_uri": "https://localhost:8080/",
          "height": 235
        }
      },
      "source": [
        "import random\n",
        "randLst = []\n",
        "for i in range(100):\n",
        "    randNum = random.randint(1, 1000)\n",
        "    randLst.append(randNum)\n",
        "\n",
        "randLst.sort()\n",
        "for j in range(1, 101):\n",
        "    if j % 10 == 0:\n",
        "        print('%4d'%(randLst[j-1]))\n",
        "    else:\n",
        "        print('%4d'%(randLst[j-1]), end = '')\n",
        "\n",
        "print()\n",
        "print(randLst[1])\n",
        "print(randLst[len(randLst) - 2])"
      ],
      "execution_count": 0,
      "outputs": [
        {
          "output_type": "stream",
          "text": [
            "  21  28  39  55  61  69  72  81  89 103\n",
            " 109 119 148 165 166 177 183 184 186 190\n",
            " 193 198 214 216 222 233 243 249 278 290\n",
            " 305 315 316 318 324 334 346 348 352 364\n",
            " 372 379 379 420 426 464 470 480 488 491\n",
            " 493 495 509 525 526 532 539 555 557 568\n",
            " 568 579 610 613 646 660 666 689 708 709\n",
            " 714 720 766 776 785 792 795 795 798 813\n",
            " 814 823 823 828 848 856 859 870 881 895\n",
            " 897 915 932 946 970 974 980 990 995 996\n",
            "\n",
            "28\n",
            "995\n"
          ],
          "name": "stdout"
        }
      ]
    },
    {
      "cell_type": "markdown",
      "metadata": {
        "id": "4iyYKWrJ02df",
        "colab_type": "text"
      },
      "source": [
        "綜合範例15 承綜合範例14，這100個亂數不可以重複。"
      ]
    },
    {
      "cell_type": "code",
      "metadata": {
        "id": "3gStE1go2VCO",
        "colab_type": "code",
        "colab": {}
      },
      "source": [
        "輸入輸出:\n",
        "(1)範例輸入:\n",
        "   無\n",
        "(2)範例輸出:\n",
        "       隨機跑出亂數，課本僅供參考!!"
      ],
      "execution_count": 0,
      "outputs": []
    },
    {
      "cell_type": "code",
      "metadata": {
        "id": "AnH6NA972u1N",
        "colab_type": "code",
        "outputId": "d5665568-f084-4991-c69e-8b144ee1138b",
        "colab": {
          "base_uri": "https://localhost:8080/",
          "height": 235
        }
      },
      "source": [
        "import random\n",
        "randLst = []\n",
        "count = 1\n",
        "while count <= 100:\n",
        "    randNum = random.randint(1, 1000)\n",
        "    if randNum not in randLst:\n",
        "        randLst.append(randNum)\n",
        "        count += 1\n",
        "\n",
        "randLst.sort()\n",
        "for j in range(1, 101):\n",
        "    if j % 10 == 0:\n",
        "        print('%4d'%(randLst[j-1]))\n",
        "    else:\n",
        "        print('%4d'%(randLst[j-1]), end = '')\n",
        "print()\n",
        "print(randLst[1])\n",
        "print(randLst[len(randLst) - 2])"
      ],
      "execution_count": 0,
      "outputs": [
        {
          "output_type": "stream",
          "text": [
            "   7  13  15  24  25  26  29  37  44  48\n",
            "  74  87  91  99 103 107 111 115 124 145\n",
            " 150 153 156 165 174 185 188 196 212 226\n",
            " 230 238 252 259 277 290 292 307 321 335\n",
            " 340 346 348 365 374 376 391 411 413 447\n",
            " 452 478 517 525 530 549 550 554 561 578\n",
            " 580 602 605 606 609 637 639 643 645 647\n",
            " 651 667 687 693 696 710 713 732 737 738\n",
            " 762 766 780 786 796 798 826 830 837 856\n",
            " 864 867 872 881 903 906 910 937 940 962\n",
            "\n",
            "13\n",
            "940\n"
          ],
          "name": "stdout"
        }
      ]
    },
    {
      "cell_type": "markdown",
      "metadata": {
        "id": "7cd28alg4ueJ",
        "colab_type": "text"
      },
      "source": [
        "習題1 試修改綜合範例9，在main()函式中輸入兩個2*2的矩陣元素值，然後將這兩個串列傳送給add()函式用以相加這兩個串列，以及show()函式用以將串列印出。"
      ]
    },
    {
      "cell_type": "code",
      "metadata": {
        "id": "1J0XqVbH5f9X",
        "colab_type": "code",
        "colab": {}
      },
      "source": [
        "輸入與輸出樣本:\n",
        "輸入:\n",
        " Enter matrix1:\n",
        " [1 1]: 3\n",
        " [1 2]: 5\n",
        " [2 1]: 7\n",
        " [2 2]: 5\n",
        " Enter matrix2:\n",
        " [1 1]: 6\n",
        " [1 2]: 9\n",
        " [2 1]: 8\n",
        " [2 2]: 3\n",
        " 輸出:\n",
        "  Matrix 1\n",
        "    3  5\n",
        "    7  5\n",
        "  Matrix 2\n",
        "    6  9\n",
        "    8  3\n",
        "  Sum of matrices\n",
        "    9 14\n",
        "   15  8"
      ],
      "execution_count": 0,
      "outputs": []
    },
    {
      "cell_type": "code",
      "metadata": {
        "id": "a3WFb5oM7NjA",
        "colab_type": "code",
        "outputId": "aebeaab1-9d50-4fa5-82b0-aa7d339a600c",
        "colab": {
          "base_uri": "https://localhost:8080/",
          "height": 336
        }
      },
      "source": [
        "ROWS = 2\n",
        "COLS = 2\n",
        "def add(lst1, lst2):\n",
        "    print('Sum of matrices')\n",
        "    for i in range(ROWS):\n",
        "        for j in range(COLS):\n",
        "            print('%3d'%(lst1[i][j]+lst2[i][j]),end = '')\n",
        "        print()\n",
        "\n",
        "def show(alst):\n",
        "    for i in range(ROWS):\n",
        "        for j in range(COLS):\n",
        "            print('%3d'%(alst[i][j]), end = '')\n",
        "        print()\n",
        "\n",
        "def main():\n",
        "    mat1 = []\n",
        "    mat2 = []\n",
        "    print('Enter matrix1: ')\n",
        "    for i in range(ROWS):\n",
        "        mat1.append([])\n",
        "        for j in range(COLS):\n",
        "            print('[%d %d]: '%(i+1, j+1), end = '')\n",
        "            mat1[i].append(eval(input()))\n",
        "\n",
        "    print('Enter matrix2: ')\n",
        "    for i in range(ROWS):\n",
        "        mat2.append([])\n",
        "        for j in range(COLS):\n",
        "            print('[%d %d]: '%(i+1, j+1), end = '')\n",
        "            mat2[i].append(eval(input()))\n",
        "\n",
        "    print('Matrix 1')\n",
        "    show(mat1)\n",
        "    print('Matrix 2')\n",
        "    show(mat2)\n",
        "\n",
        "    add(mat1, mat2)\n",
        "\n",
        "main()"
      ],
      "execution_count": 0,
      "outputs": [
        {
          "output_type": "stream",
          "text": [
            "Enter matrix1: \n",
            "[1 1]: 3\n",
            "[1 2]: 5\n",
            "[2 1]: 7\n",
            "[2 2]: 5\n",
            "Enter matrix2: \n",
            "[1 1]: 6\n",
            "[1 2]: 9\n",
            "[2 1]: 8\n",
            "[2 2]: 3\n",
            "Matrix 1\n",
            "  3  5\n",
            "  7  5\n",
            "Matrix 2\n",
            "  6  9\n",
            "  8  3\n",
            "Sum of matrices\n",
            "  9 14\n",
            " 15  8\n"
          ],
          "name": "stdout"
        }
      ]
    },
    {
      "cell_type": "markdown",
      "metadata": {
        "id": "vU03OTzhEpXy",
        "colab_type": "text"
      },
      "source": [
        "習題2 請撰寫一程式，以習題1為參考樣本，在main()函式中輸入兩個2*2的矩陣元素值，然後將這兩個串列傳送multiply()函式用以相乘這兩個串列，以及利用show()函式將串列加以印出。"
      ]
    },
    {
      "cell_type": "code",
      "metadata": {
        "id": "OFRw5M83GLTn",
        "colab_type": "code",
        "colab": {}
      },
      "source": [
        "輸入與輸出樣本:\n",
        "輸入:\n",
        " Enter matrix1:\n",
        " [1 1]: 1\n",
        " [1 2]: 2\n",
        " [2 1]: 3\n",
        " [2 2]: 4\n",
        " Enter matrix2:\n",
        " [1 1]: 5\n",
        " [1 2]: 6\n",
        " [2 1]: 7\n",
        " [2 2]: 8\n",
        " 輸出:\n",
        "  Matrix 1\n",
        "    1  2\n",
        "    3  4\n",
        "  Matrix 2\n",
        "    5  6\n",
        "    7  8\n",
        "  Sum of matrices\n",
        "   19 22\n",
        "   43 50"
      ],
      "execution_count": 0,
      "outputs": []
    },
    {
      "cell_type": "code",
      "metadata": {
        "id": "gIFbDoE6HcZZ",
        "colab_type": "code",
        "outputId": "3a1a3d41-78fb-47e7-af39-71487aa1ce24",
        "colab": {
          "base_uri": "https://localhost:8080/",
          "height": 340
        }
      },
      "source": [
        "ROWS = 2\n",
        "COLS = 2\n",
        "\n",
        "def multiply(lst1, lst2):\n",
        "    print('Sum of matrices')\n",
        "    for i in range(ROWS):\n",
        "        for j in range(COLS):\n",
        "            print('%3d'%(lst1[i][0]*lst2[0][j]+lst1[i][1]*lst2[1][j]), end = '')\n",
        "        print()\n",
        "\n",
        "def show(alst):\n",
        "    for i in range(ROWS):\n",
        "        for j in range(COLS):\n",
        "            print('%3d'%(alst[i][j]), end = '')\n",
        "        print()\n",
        "\n",
        "def main():\n",
        "    mat1 = []\n",
        "    mat2 = []\n",
        "    print('Enter matrix1: ')\n",
        "    for i in range(ROWS):\n",
        "        mat1.append([])\n",
        "        for j in range(COLS):\n",
        "            print('[%d %d]: '%(i+1, j+1), end = '')\n",
        "            mat1[i].append(eval(input()))\n",
        "    \n",
        "    print('Enter matrix2: ')\n",
        "    for i in range(ROWS):\n",
        "        mat2.append([])\n",
        "        for j in range(COLS):\n",
        "            print('[%d %d]: '%(i+1, j+1), end = '')\n",
        "            mat2[i].append(eval(input()))\n",
        "\n",
        "    print('Matrix 1')\n",
        "    show(mat1)\n",
        "    print('Matrix 2')\n",
        "    show(mat2)\n",
        "\n",
        "    multiply(mat1, mat2)\n",
        "\n",
        "main()"
      ],
      "execution_count": 0,
      "outputs": [
        {
          "output_type": "stream",
          "text": [
            "Enter matrix1: \n",
            "[1 1]: 1\n",
            "[1 2]: 2\n",
            "[2 1]: 3\n",
            "[2 2]: 4\n",
            "Enter matrix2: \n",
            "[1 1]: 5\n",
            "[1 2]: 6\n",
            "[2 1]: 7\n",
            "[2 2]: 8\n",
            "Matrix 1\n",
            "  1  2\n",
            "  3  4\n",
            "Matrix 2\n",
            "  5  6\n",
            "  7  8\n",
            "Sum of matrices\n",
            " 19 22\n",
            " 43 50\n"
          ],
          "name": "stdout"
        }
      ]
    },
    {
      "cell_type": "markdown",
      "metadata": {
        "id": "0EBgfKBrGoFL",
        "colab_type": "text"
      },
      "source": [
        "習題3 是修改綜合範例15，在main()函式以隨機亂數的方式產生100個介於1~1000間的亂數，並置放於randLst串列中，然後將此串列傳送給maxAndmin()函式，找出此串列的第二大的數和第二小的數並加以印出。"
      ]
    },
    {
      "cell_type": "code",
      "metadata": {
        "id": "oDm_D1tjHqHl",
        "colab_type": "code",
        "colab": {}
      },
      "source": [
        "輸入與輸出樣本:\n",
        "輸入:\n",
        " 無\n",
        "輸出:\n",
        " 隨機跑出亂數，課本僅供參考!!"
      ],
      "execution_count": 0,
      "outputs": []
    },
    {
      "cell_type": "code",
      "metadata": {
        "id": "TTzP1Xh2H_4W",
        "colab_type": "code",
        "outputId": "393ec364-0587-45ac-b87b-1b531f536059",
        "colab": {
          "base_uri": "https://localhost:8080/",
          "height": 221
        }
      },
      "source": [
        "import random\n",
        "def maxAndMin(aLst):\n",
        "    aLst.sort()\n",
        "    for j in range(1, 101):\n",
        "        if j % 10 == 0:\n",
        "            print('%4d'%(aLst[j-1]))\n",
        "        else:\n",
        "            print('%4d'%(aLst[j-1]), end = '')\n",
        "\n",
        "    print(aLst[1])\n",
        "    print(aLst[len(aLst) - 2])\n",
        "\n",
        "def main():\n",
        "    randLst = []\n",
        "    count = 1\n",
        "    while count <= 100:\n",
        "        randNum = random.randint(1, 1000)\n",
        "        if randNum not in randLst:\n",
        "           randLst.append(randNum)\n",
        "           count += 1\n",
        "    maxAndMin(randLst)\n",
        "\n",
        "main()"
      ],
      "execution_count": 0,
      "outputs": [
        {
          "output_type": "stream",
          "text": [
            "   8  50  55  57 104 108 128 129 133 135\n",
            " 137 140 190 191 194 195 205 209 210 276\n",
            " 277 279 282 288 292 296 303 313 322 335\n",
            " 354 358 359 364 366 387 393 407 410 415\n",
            " 420 421 441 443 460 476 480 481 508 535\n",
            " 543 561 587 591 592 594 609 629 630 650\n",
            " 671 673 678 686 688 691 692 703 711 717\n",
            " 718 746 760 762 779 782 783 797 804 806\n",
            " 818 832 849 852 856 857 865 894 903 905\n",
            " 908 913 959 969 971 976 977 987 994 995\n",
            "50\n",
            "994\n"
          ],
          "name": "stdout"
        }
      ]
    },
    {
      "cell_type": "markdown",
      "metadata": {
        "id": "6ooTRHjYKprT",
        "colab_type": "text"
      },
      "source": [
        "習題4 式撰寫一程式，在main()函式輸入十筆資料於alst串列中，呼叫meanAndsd()函式，計算此十筆資料的平均數和標準差，最後將平均數和標準差回傳給main()加以印出。"
      ]
    },
    {
      "cell_type": "code",
      "metadata": {
        "id": "Y8biUaiNM4r8",
        "colab_type": "code",
        "colab": {}
      },
      "source": [
        "輸入與輸出樣本:\n",
        "輸入:\n",
        "  1\n",
        "  2\n",
        "  3\n",
        "  4\n",
        "  5\n",
        "  6\n",
        "  7\n",
        "  8\n",
        "  9\n",
        "  10\n",
        "輸出:\n",
        "  [1, 2, 3, 4, 5, 6, 7, 8, 9, 10]\n",
        "  mean = 5.50, standard deviation = 3.03"
      ],
      "execution_count": 0,
      "outputs": []
    },
    {
      "cell_type": "code",
      "metadata": {
        "id": "Rj6JLTbRNeOb",
        "colab_type": "code",
        "outputId": "579136f7-f55e-47a0-c614-7bc8b84e8af6",
        "colab": {
          "base_uri": "https://localhost:8080/",
          "height": 221
        }
      },
      "source": [
        "import math\n",
        "def meanAndsd(lst):\n",
        "    total = 0\n",
        "    ss = 0\n",
        "    for i in range(len(lst)):\n",
        "        total += lst[i]\n",
        "    mean = total / len(lst)\n",
        "    for j in range(len(lst)):\n",
        "        ss += (lst[j] - mean) ** 2\n",
        "    sd = math.sqrt(ss / (len(lst)-1))\n",
        "    return mean, sd\n",
        "\n",
        "def main():\n",
        "    alst = []\n",
        "    for k in range(1, 11):\n",
        "        num = eval(input())\n",
        "        alst.append(num)\n",
        "    print(alst)\n",
        "    m, s = meanAndsd(alst)\n",
        "    print('mean = %.2f, standard deviation = %.2f'%(m, s))\n",
        "\n",
        "main()"
      ],
      "execution_count": 0,
      "outputs": [
        {
          "output_type": "stream",
          "text": [
            "1\n",
            "2\n",
            "3\n",
            "4\n",
            "5\n",
            "6\n",
            "7\n",
            "8\n",
            "9\n",
            "10\n",
            "[1, 2, 3, 4, 5, 6, 7, 8, 9, 10]\n",
            "mean = 5.50, standard deviation = 3.03\n"
          ],
          "name": "stdout"
        }
      ]
    },
    {
      "cell_type": "markdown",
      "metadata": {
        "id": "uZMI2zt4QG__",
        "colab_type": "text"
      },
      "source": [
        "習題5 修改綜合範例7，在main()函式中呼叫inputDate()函式，用以輸入三位同學各五筆Python的考試成績，並儲存於名為lst35的二維串列，接下來呼叫totAver()函式用以計算每位學生的總和和平均分數。"
      ]
    },
    {
      "cell_type": "code",
      "metadata": {
        "id": "_L87bs5mRlc-",
        "colab_type": "code",
        "colab": {}
      },
      "source": [
        "輸入與輸出樣本:\n",
        "輸入:\n",
        " #1 student\n",
        " 78\n",
        " 89\n",
        " 88\n",
        " 70\n",
        " 60\n",
        " #2 student\n",
        " 90\n",
        " 78\n",
        " 66\n",
        " 68\n",
        " 78\n",
        " #3 student\n",
        " 69\n",
        " 97\n",
        " 70\n",
        " 89\n",
        " 90\n",
        "輸出:\n",
        " #1 student:\n",
        " sum = 385, average = 77.00\n",
        "\n",
        " #2 student:\n",
        " sum = 380, average = 76.00\n",
        "\n",
        " #3 student:\n",
        " sum = 415, average = 83.00"
      ],
      "execution_count": 0,
      "outputs": []
    },
    {
      "cell_type": "code",
      "metadata": {
        "id": "0hiE_4TzSelJ",
        "colab_type": "code",
        "outputId": "a2cb7db0-6fe8-45c4-cbea-5f08aaf3d41b",
        "colab": {
          "base_uri": "https://localhost:8080/",
          "height": 476
        }
      },
      "source": [
        "def inputData():\n",
        "    lst35 = []\n",
        "    for i in range(3):\n",
        "        lst35.append([])\n",
        "        print('#%d student'%(i+1))\n",
        "        for j in range(5):\n",
        "            score = eval(input())\n",
        "            lst35[i].append(score)\n",
        "    return lst35\n",
        "\n",
        "def totAver(alst):\n",
        "    for i in range(len(alst)):\n",
        "        sum = 0\n",
        "        average = 0.0\n",
        "        for j in range(len(alst[0])):\n",
        "            sum += alst[i][j]\n",
        "            average = sum / 5\n",
        "        print('#%d student:'%(i+1))\n",
        "        print('sum = %d, average = %.2f'%(sum, average))\n",
        "        print()\n",
        "\n",
        "def main():\n",
        "    lst35 = inputData()\n",
        "    totAver(lst35)\n",
        "\n",
        "main()"
      ],
      "execution_count": 0,
      "outputs": [
        {
          "output_type": "stream",
          "text": [
            "#1 student\n",
            "78\n",
            "89\n",
            "88\n",
            "70\n",
            "60\n",
            "#2 student\n",
            "90\n",
            "78\n",
            "66\n",
            "68\n",
            "78\n",
            "#3 student\n",
            "69\n",
            "97\n",
            "70\n",
            "89\n",
            "90\n",
            "#1 student:\n",
            "sum = 385, average = 77.00\n",
            "\n",
            "#2 student:\n",
            "sum = 380, average = 76.00\n",
            "\n",
            "#3 student:\n",
            "sum = 415, average = 83.00\n",
            "\n"
          ],
          "name": "stdout"
        }
      ]
    },
    {
      "cell_type": "markdown",
      "metadata": {
        "id": "SFD9uci6X9qQ",
        "colab_type": "text"
      },
      "source": [
        "習題6 請撰寫一程式，讓使用者輸入兩個正整數a、b，其中a<=b，並將其傳遞給名為compute()的函式，該函式回傳從a到b內(含)所有Armstrong numbers的串列。最後再將回傳結果輸出。\n",
        "提示:所謂的阿姆斯壯數(Armstrong number)指的是一個n位數的正整數，它的所有位數的n次方和恰好等於自己(如:1634=1^4+6^4+3^4+4^4)。"
      ]
    },
    {
      "cell_type": "code",
      "metadata": {
        "id": "ZpOq6FhSZ5od",
        "colab_type": "code",
        "colab": {}
      },
      "source": [
        "輸入與輸出樣本:\n",
        "輸入:\n",
        "  20\n",
        "  2000\n",
        "輸出:\n",
        "  153 370 371 407 1634"
      ],
      "execution_count": 0,
      "outputs": []
    },
    {
      "cell_type": "code",
      "metadata": {
        "id": "xICNsejGaFEa",
        "colab_type": "code",
        "outputId": "ee9e926d-c662-43d2-f913-6fc7a70185f3",
        "colab": {
          "base_uri": "https://localhost:8080/",
          "height": 68
        }
      },
      "source": [
        "def compute(a, b):\n",
        "    lst = []\n",
        "    for i in range(a, b+1):\n",
        "        num_len = len(str(i))\n",
        "        tmp = 0\n",
        "\n",
        "        for j in range(0, num_len):\n",
        "            tmp += ((i//(10**j))%10)**num_len\n",
        "\n",
        "        if i == tmp:\n",
        "            lst.append(i)\n",
        "    return lst\n",
        "\n",
        "a = eval(input())\n",
        "b = eval(input())\n",
        "\n",
        "armstrong_list = compute(a, b)\n",
        "\n",
        "for i in range(len(armstrong_list)):\n",
        "    print (armstrong_list[i], end = '')"
      ],
      "execution_count": 0,
      "outputs": [
        {
          "output_type": "stream",
          "text": [
            "20\n",
            "2000\n",
            "1533703714071634"
          ],
          "name": "stdout"
        }
      ]
    }
  ]
}